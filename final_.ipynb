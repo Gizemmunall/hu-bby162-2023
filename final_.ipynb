{
  "nbformat": 4,
  "nbformat_minor": 0,
  "metadata": {
    "colab": {
      "provenance": [],
      "authorship_tag": "ABX9TyP8mTeLLXHtcg9GozJqL5mY",
      "include_colab_link": true
    },
    "kernelspec": {
      "name": "python3",
      "display_name": "Python 3"
    },
    "language_info": {
      "name": "python"
    }
  },
  "cells": [
    {
      "cell_type": "markdown",
      "metadata": {
        "id": "view-in-github",
        "colab_type": "text"
      },
      "source": [
        "<a href=\"https://colab.research.google.com/github/Gizemmunall/hu-bby162-2023/blob/main/final_.ipynb\" target=\"_parent\"><img src=\"https://colab.research.google.com/assets/colab-badge.svg\" alt=\"Open In Colab\"/></a>"
      ]
    },
    {
      "cell_type": "code",
      "execution_count": 7,
      "metadata": {
        "colab": {
          "base_uri": "https://localhost:8080/"
        },
        "id": "tCMSa8KcVLTb",
        "outputId": "949217f6-2de3-4048-d4d9-9ff78280f8c9"
      },
      "outputs": [
        {
          "name": "stdout",
          "output_type": "stream",
          "text": [
            "Hoş geldiniz\n",
            "- Katalogdan Eser Silmek için 1'i tuşlayınız.\n",
            "- Katalogdaki Eserleri Temizlemek için 2'yi tuşlayınız.\n",
            "- Eserleri Listelemek için 3'ü tuşlayınız.\n",
            "- Kataloga Yeni Eser Eklemek için 4'ü tuşlayınız.\n",
            "- Çıkış yapmak için 5'i tuşlayınız.\n",
            "Lütfen seçeneğinizi giriniz: 1\n",
            "Katalogdan eser siliniyor...\n",
            "Silmek istediğiniz eserin adını giriniz (Çıkmak için '5' tuşuna basın): Cezmi\n",
            "Cezmi katalogdan eser silindi.\n",
            "Hoş geldiniz\n",
            "- Katalogdan Eser Silmek için 1'i tuşlayınız.\n",
            "- Katalogdaki Eserleri Temizlemek için 2'yi tuşlayınız.\n",
            "- Eserleri Listelemek için 3'ü tuşlayınız.\n",
            "- Kataloga Yeni Eser Eklemek için 4'ü tuşlayınız.\n",
            "- Çıkış yapmak için 5'i tuşlayınız.\n",
            "Lütfen seçeneğinizi giriniz: 4\n",
            "Eser kataloga ekleniyor.\n",
            "Yeni bir eser adı giriniz (Çıkmak için '5' tuşuna basın): kamsız\n",
            "Eserin yazar adını giriniz: nesrin\n",
            "Eserin yayım yılını giriniz: 2003\n",
            "Eser kataloga eklendi.\n",
            "Hoş geldiniz\n",
            "- Katalogdan Eser Silmek için 1'i tuşlayınız.\n",
            "- Katalogdaki Eserleri Temizlemek için 2'yi tuşlayınız.\n",
            "- Eserleri Listelemek için 3'ü tuşlayınız.\n",
            "- Kataloga Yeni Eser Eklemek için 4'ü tuşlayınız.\n",
            "- Çıkış yapmak için 5'i tuşlayınız.\n",
            "Lütfen seçeneğinizi giriniz: 3\n",
            "Eserler listelenmektedir.\n",
            "{'eser': 'İntibah', 'yazarı': 'Şemseddin Sami', 'yayımyili': 1876}\n",
            "{'eser': 'Zehra', 'yazarı': 'Nabizade Nazım', 'yayımyili': 1894}\n",
            "{'eser': 'Şıpsevdi', 'yazarı': 'Hüseyin Rahmi GÜnpınar', 'yayımyili': 1911}\n",
            "{'eser': 'kamsız', 'yazarı': 'nesrin', 'yayım yili': '2003'}\n",
            "Hoş geldiniz\n",
            "- Katalogdan Eser Silmek için 1'i tuşlayınız.\n",
            "- Katalogdaki Eserleri Temizlemek için 2'yi tuşlayınız.\n",
            "- Eserleri Listelemek için 3'ü tuşlayınız.\n",
            "- Kataloga Yeni Eser Eklemek için 4'ü tuşlayınız.\n",
            "- Çıkış yapmak için 5'i tuşlayınız.\n",
            "Lütfen seçeneğinizi giriniz: 5\n"
          ]
        }
      ],
      "source": [
        "def ana_menu():\n",
        "    print(\"Hoş geldiniz\")\n",
        "    print(\"- Katalogdan Eser Silmek için 1'i tuşlayınız.\")\n",
        "    print(\"- Katalogdaki Eserleri Temizlemek için 2'yi tuşlayınız.\")\n",
        "    print(\"- Eserleri Listelemek için 3'ü tuşlayınız.\")\n",
        "    print(\"- Kataloga Yeni Eser Eklemek için 4'ü tuşlayınız.\")\n",
        "    print(\"- Çıkış yapmak için 5'i tuşlayınız.\")\n",
        "\n",
        "    tuslama = input(\"Lütfen seçeneğinizi giriniz: \")\n",
        "\n",
        "    if tuslama == \"3\":\n",
        "        print(\"Eserler listelenmektedir.\")\n",
        "        for eser in katalog:\n",
        "            print(eser)\n",
        "\n",
        "    elif tuslama == \"4\":\n",
        "        print(\"Eser kataloga ekleniyor.\")\n",
        "        eser_adi = input(\"Yeni bir eser adı giriniz (Çıkmak için '5' tuşuna basın): \")\n",
        "        if eser_adi == \"5\":\n",
        "            return\n",
        "\n",
        "        yazar = input(\"Eserin yazar adını giriniz: \")\n",
        "        basim_yili = input(\"Eserin yayım yılını giriniz: \")\n",
        "\n",
        "        katalog.append({\n",
        "            \"eser\": eser_adi,\n",
        "            \"yazarı\": yazar,\n",
        "            \"yayım yili\": basim_yili\n",
        "        })\n",
        "\n",
        "        print(\"Eser kataloga eklendi.\")\n",
        "\n",
        "    elif tuslama == \"1\":\n",
        "        print(\"Katalogdan eser siliniyor...\")\n",
        "        eser_adi = input(\"Silmek istediğiniz eserin adını giriniz (Çıkmak için '5' tuşuna basın): \")\n",
        "        if eser_adi == \"5\":\n",
        "            return\n",
        "\n",
        "        for eser in katalog:\n",
        "            if eser[\"eser\"] == eser_adi:\n",
        "                katalog.remove(eser)\n",
        "                print(f\"{eser_adi} katalogdan eser silindi.\")\n",
        "                break\n",
        "        else:\n",
        "            print(f\"{eser_adi} isimli bir eser katalogda bulunmamaktadır.\")\n",
        "\n",
        "    elif tuslama == \"4\":\n",
        "        print(\"Katalogdaki tüm eserler siliniyor...\")\n",
        "        katalog.clear()\n",
        "        print(\"Katalogda hiç eser bulunmamaktadır.\")\n",
        "\n",
        "    elif tuslama == \"5\":\n",
        "        return\n",
        "\n",
        "    else:\n",
        "        print(\"Geçersiz seçenek.\")\n",
        "\n",
        "    ana_menu()\n",
        "\n",
        "katalog = [\n",
        "    {\n",
        "        \"eser\": \"İntibah\",\n",
        "        \"yazarı\": \"Şemseddin Sami\",\n",
        "        \"yayımyili\": 1876\n",
        "    },\n",
        "    {\n",
        "        \"eser\": \"Cezmi\",\n",
        "        \"yazarı\": \"Namık Kemal\",\n",
        "        \"yayımyılı\": 1880 \n",
        "    },\n",
        "    {\n",
        "        \"eser\": \"Zehra\",\n",
        "        \"yazarı\": \"Nabizade Nazım\",\n",
        "        \"yayımyili\": 1894\n",
        "    },\n",
        "    {\n",
        "        \"eser\": \"Şıpsevdi\",\n",
        "        \"yazarı\": \"Hüseyin Rahmi GÜnpınar\",\n",
        "        \"yayımyili\": 1911 \n",
        "    }\n",
        "]\n",
        "\n",
        "if __name__ == \"__main__\":\n",
        "    ana_menu()"
      ]
    },
    {
      "cell_type": "code",
      "source": [
        "class KatalogUygulamasi: \n",
        "  def __init__(self):\n",
        "    drive.mount(\"/gdrive\")\n",
        "    self.dosya_adi = \"veri.txt\"\n",
        "    self.dosya_\n",
        "\n",
        "    self.d\n",
        "\"/gdrive/My Drive/veri.txt\""
      ],
      "metadata": {
        "colab": {
          "base_uri": "https://localhost:8080/",
          "height": 35
        },
        "id": "pKTBjT2kgktJ",
        "outputId": "471e3491-527b-4319-8874-6917e9ecfe64"
      },
      "execution_count": 15,
      "outputs": [
        {
          "output_type": "execute_result",
          "data": {
            "text/plain": [
              "'/gdrive/My Drive/veri.txt'"
            ],
            "application/vnd.google.colaboratory.intrinsic+json": {
              "type": "string"
            }
          },
          "metadata": {},
          "execution_count": 15
        }
      ]
    }
  ]
}