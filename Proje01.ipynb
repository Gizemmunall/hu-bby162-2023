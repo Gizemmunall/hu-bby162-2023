{
  "nbformat": 4,
  "nbformat_minor": 0,
  "metadata": {
    "colab": {
      "provenance": [],
      "authorship_tag": "ABX9TyM6D0llkXNSAxOio8CoC3+8",
      "include_colab_link": true
    },
    "kernelspec": {
      "name": "python3",
      "display_name": "Python 3"
    },
    "language_info": {
      "name": "python"
    }
  },
  "cells": [
    {
      "cell_type": "markdown",
      "metadata": {
        "id": "view-in-github",
        "colab_type": "text"
      },
      "source": [
        "<a href=\"https://colab.research.google.com/github/Gizemmunall/hu-bby162-2023/blob/main/Proje01.ipynb\" target=\"_parent\"><img src=\"https://colab.research.google.com/assets/colab-badge.svg\" alt=\"Open In Colab\"/></a>"
      ]
    },
    {
      "cell_type": "code",
      "execution_count": 2,
      "metadata": {
        "colab": {
          "base_uri": "https://localhost:8080/"
        },
        "id": "LhMAw86FKGIA",
        "outputId": "cf7a82e0-e0db-4ca7-91be-5d8aec661016"
      },
      "outputs": [
        {
          "output_type": "stream",
          "name": "stdout",
          "text": [
            "['Alone Again', 'Too Late', 'Hardest To Love', 'Scared To Love', 'Snowchild', 'Escape From LA', 'Heartless']\n",
            "['Alone Again', 'Too Late', 'Hardest To Love', 'Scared To Love', 'Snowchild', 'Escape From LA', 'Heartless', 'Blinding Lights', 'Faith']\n",
            "Lütfen eklenecek şarkıyı giriniz: Faith\n",
            "['Alone Again', 'Too Late', 'Hardest To Love', 'Scared To Love', 'Snowchild', 'Escape From LA', 'Heartless', 'Blinding Lights', 'Faith', 'Faith']\n",
            "['Alone Again', 'Too Late', 'Snowchild', 'Escape From LA', 'Heartless', 'Blinding Lights', 'Faith', 'Faith']\n",
            "[]\n"
          ]
        }
      ],
      "source": [
        "#The Weekend'in After Hours albümünün şarkılarının listesini yaptım.\n",
        "AfterHours = [\"Alone Again\" , \"Too Late\" , \"Hardest To Love\" , \"Scared To Love\" , \"Snowchild\" ,\"Escape From LA\" , \"Heartless\" ] \n",
        "print(AfterHours) \n",
        "\n",
        "#yeni şarkılar ekledim. \n",
        "AfterHours += [\"Blinding Lights\" , \"Faith\"]\n",
        "print(AfterHours)\n",
        "\n",
        "#input ile listeye şarkı eklemek.\n",
        "şarkı = input(\"Lütfen eklenecek şarkıyı giriniz: \")\n",
        "AfterHours.append(şarkı)\n",
        "print(AfterHours)\n",
        "\n",
        "# şarkıları listeden çıkarmak. \n",
        "AfterHours[2:4]= []\n",
        "print(AfterHours)\n",
        "\n",
        "#bütün şarkıları silmek. \n",
        "AfterHours[:]= []\n",
        "print(AfterHours)"
      ]
    }
  ]
}